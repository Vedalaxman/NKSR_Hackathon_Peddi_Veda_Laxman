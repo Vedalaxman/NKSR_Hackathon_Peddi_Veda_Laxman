{
 "cells": [
  {
   "cell_type": "code",
   "execution_count": null,
   "metadata": {},
   "outputs": [],
   "source": [
    "#This Notebook Contains My Two Submissions"
   ]
  },
  {
   "cell_type": "code",
   "execution_count": null,
   "metadata": {
    "trusted": true
   },
   "outputs": [],
   "source": [
    "#2nd Best Submission"
   ]
  },
  {
   "cell_type": "code",
   "execution_count": 1,
   "metadata": {
    "execution": {
     "iopub.execute_input": "2025-06-10T08:28:15.959966Z",
     "iopub.status.busy": "2025-06-10T08:28:15.959619Z",
     "iopub.status.idle": "2025-06-10T08:28:15.964674Z",
     "shell.execute_reply": "2025-06-10T08:28:15.963755Z",
     "shell.execute_reply.started": "2025-06-10T08:28:15.959932Z"
    },
    "trusted": true
   },
   "outputs": [],
   "source": [
    "#Upload The Three CSV Files \n",
    "#You Can Click Upload On The Right In Input And Import The Three CSV Files\n",
    "#Change The CSV Files Names If They Are Differnet"
   ]
  },
  {
   "cell_type": "code",
   "execution_count": null,
   "metadata": {},
   "outputs": [],
   "source": [
    "import pandas as pd"
   ]
  },
  {
   "cell_type": "code",
   "execution_count": null,
   "metadata": {},
   "outputs": [],
   "source": [
    "iv_columns = ['call_iv_24000', 'call_iv_24100', 'call_iv_24200', 'call_iv_24300',\n",
    "       'call_iv_24400', 'call_iv_24500', 'call_iv_24600', 'call_iv_24700',\n",
    "       'call_iv_24800', 'call_iv_24900', 'call_iv_25000', 'call_iv_25100',\n",
    "       'call_iv_25200', 'call_iv_25300', 'call_iv_25400', 'call_iv_25500',\n",
    "       'call_iv_25600', 'call_iv_25700', 'call_iv_25800', 'call_iv_25900',\n",
    "       'call_iv_26000', 'call_iv_26100', 'call_iv_26200', 'call_iv_26300',\n",
    "       'call_iv_26400', 'call_iv_26500', 'put_iv_23000', 'put_iv_23100',\n",
    "       'put_iv_23200', 'put_iv_23300', 'put_iv_23400', 'put_iv_23500',\n",
    "       'put_iv_23600', 'put_iv_23700', 'put_iv_23800', 'put_iv_23900',\n",
    "       'put_iv_24000', 'put_iv_24100', 'put_iv_24200', 'put_iv_24300',\n",
    "       'put_iv_24400', 'put_iv_24500', 'put_iv_24600', 'put_iv_24700',\n",
    "       'put_iv_24800', 'put_iv_24900', 'put_iv_25000', 'put_iv_25100',\n",
    "       'put_iv_25200', 'put_iv_25300', 'put_iv_25400', 'put_iv_25500']"
   ]
  },
  {
   "cell_type": "code",
   "execution_count": null,
   "metadata": {
    "trusted": true
   },
   "outputs": [],
   "source": [
    "csv1 = pd.read_csv('submission (29).csv')\n",
    "csv2 = pd.read_csv('submission (39).csv')\n",
    "csv3 = pd.read_csv('submission (36).csv')"
   ]
  },
  {
   "cell_type": "code",
   "execution_count": null,
   "metadata": {
    "trusted": true
   },
   "outputs": [],
   "source": [
    "timestamp = csv1['timestamp']\n",
    "csv1_no_ts = csv1.drop(columns=['timestamp'])\n",
    "csv2_no_ts = csv2.drop(columns=['timestamp'])\n",
    "csv4 = csv1_no_ts * 0.4 + csv2_no_ts * 0.6\n",
    "csv4['timestamp'] = timestamp\n",
    "csv4 = csv4[['timestamp'] + iv_columns]"
   ]
  },
  {
   "cell_type": "code",
   "execution_count": null,
   "metadata": {
    "trusted": true
   },
   "outputs": [],
   "source": [
    "csv4.to_csv('Second_Best.csv', index=False)"
   ]
  },
  {
   "cell_type": "code",
   "execution_count": null,
   "metadata": {
    "trusted": true
   },
   "outputs": [],
   "source": [
    "#The CSV File Is My Second Best Submission of Scores:\n",
    "#Private Score: 0.000001031\n",
    "#Public score: 0.000000634"
   ]
  },
  {
   "cell_type": "code",
   "execution_count": null,
   "metadata": {
    "trusted": true
   },
   "outputs": [],
   "source": []
  },
  {
   "cell_type": "code",
   "execution_count": null,
   "metadata": {
    "trusted": true
   },
   "outputs": [],
   "source": [
    "#1 Best Submission"
   ]
  },
  {
   "cell_type": "code",
   "execution_count": null,
   "metadata": {
    "trusted": true
   },
   "outputs": [],
   "source": [
    "timestamp = csv1['timestamp']\n",
    "csv1_no_ts = csv1.drop(columns=['timestamp'])\n",
    "csv2_no_ts = csv2.drop(columns=['timestamp'])\n",
    "csv3_no_ts = csv3.drop(columns=['timestamp'])\n",
    "csv4_no_ts = csv4.drop(columns=['timestamp'])\n",
    "csv5 = csv1_no_ts + csv2_no_ts + csv3_no_ts + csv4_no_ts\n",
    "csv5 = csv5/4\n",
    "csv5['timestamp'] = timestamp\n",
    "csv5 = csv5[['timestamp'] + iv_columns]"
   ]
  },
  {
   "cell_type": "code",
   "execution_count": null,
   "metadata": {
    "trusted": true
   },
   "outputs": [],
   "source": [
    "csv5.to_csv('Best.csv', index=False)"
   ]
  },
  {
   "cell_type": "code",
   "execution_count": null,
   "metadata": {
    "trusted": true
   },
   "outputs": [],
   "source": [
    "#The CSV File Is My Best Submission of Scores:\n",
    "#Private Score: 0.000001030\n",
    "#Public score: 0.000000635"
   ]
  }
 ],
 "metadata": {
  "kaggle": {
   "accelerator": "none",
   "dataSources": [
    {
     "databundleVersionId": 12520411,
     "sourceId": 104024,
     "sourceType": "competition"
    }
   ],
   "dockerImageVersionId": 31040,
   "isGpuEnabled": false,
   "isInternetEnabled": true,
   "language": "python",
   "sourceType": "notebook"
  },
  "kernelspec": {
   "display_name": "Python 3",
   "language": "python",
   "name": "python3"
  },
  "language_info": {
   "codemirror_mode": {
    "name": "ipython",
    "version": 3
   },
   "file_extension": ".py",
   "mimetype": "text/x-python",
   "name": "python",
   "nbconvert_exporter": "python",
   "pygments_lexer": "ipython3",
   "version": "3.11.11"
  }
 },
 "nbformat": 4,
 "nbformat_minor": 4
}

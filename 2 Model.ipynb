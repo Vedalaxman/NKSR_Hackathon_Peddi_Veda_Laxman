{
 "cells": [
  {
   "cell_type": "code",
   "execution_count": null,
   "metadata": {
    "trusted": true
   },
   "outputs": [],
   "source": [
    "#This Is My Second Notebook Run This On CPU only"
   ]
  },
  {
   "cell_type": "code",
   "execution_count": null,
   "metadata": {
    "_cell_guid": "b1076dfc-b9ad-4769-8c92-a6c4dae69d19",
    "_uuid": "8f2839f25d086af736a60e9eeb907d3b93b6e0e5",
    "trusted": true
   },
   "outputs": [],
   "source": [
    "import numpy as np \n",
    "import pandas as pd \n",
    "import os\n",
    "import sklearn\n",
    "for dirname, _, filenames in os.walk('/kaggle/input'):\n",
    "    for filename in filenames:\n",
    "        print(os.path.join(dirname, filename))"
   ]
  },
  {
   "cell_type": "code",
   "execution_count": null,
   "metadata": {
    "trusted": true
   },
   "outputs": [],
   "source": [
    "data_path = '/kaggle/input/volatility-smile-prediction'\n",
    "output_path = '/kaggle/working'\n",
    "temp_path = '/kaggle/temp'"
   ]
  },
  {
   "cell_type": "code",
   "execution_count": null,
   "metadata": {
    "trusted": true
   },
   "outputs": [],
   "source": [
    "df = pd.read_parquet(f'{data_path}/train_data.parquet')\n",
    "df1 = pd.read_parquet(f'{data_path}/test_data.parquet')"
   ]
  },
  {
   "cell_type": "code",
   "execution_count": null,
   "metadata": {
    "trusted": true
   },
   "outputs": [],
   "source": [
    "iv_columns = ['call_iv_24000', 'call_iv_24100', 'call_iv_24200', 'call_iv_24300',\n",
    "       'call_iv_24400', 'call_iv_24500', 'call_iv_24600', 'call_iv_24700',\n",
    "       'call_iv_24800', 'call_iv_24900', 'call_iv_25000', 'call_iv_25100',\n",
    "       'call_iv_25200', 'call_iv_25300', 'call_iv_25400', 'call_iv_25500',\n",
    "       'call_iv_25600', 'call_iv_25700', 'call_iv_25800', 'call_iv_25900',\n",
    "       'call_iv_26000', 'call_iv_26100', 'call_iv_26200', 'call_iv_26300',\n",
    "       'call_iv_26400', 'call_iv_26500', 'put_iv_23000', 'put_iv_23100',\n",
    "       'put_iv_23200', 'put_iv_23300', 'put_iv_23400', 'put_iv_23500',\n",
    "       'put_iv_23600', 'put_iv_23700', 'put_iv_23800', 'put_iv_23900',\n",
    "       'put_iv_24000', 'put_iv_24100', 'put_iv_24200', 'put_iv_24300',\n",
    "       'put_iv_24400', 'put_iv_24500', 'put_iv_24600', 'put_iv_24700',\n",
    "       'put_iv_24800', 'put_iv_24900', 'put_iv_25000', 'put_iv_25100',\n",
    "       'put_iv_25200', 'put_iv_25300', 'put_iv_25400', 'put_iv_25500']"
   ]
  },
  {
   "cell_type": "code",
   "execution_count": null,
   "metadata": {
    "trusted": true
   },
   "outputs": [],
   "source": [
    "ig_columns = df1.drop(columns=['timestamp']).columns"
   ]
  },
  {
   "cell_type": "code",
   "execution_count": null,
   "metadata": {
    "trusted": true
   },
   "outputs": [],
   "source": [
    "from sklearn.experimental import enable_iterative_imputer\n",
    "from sklearn.impute import IterativeImputer\n",
    "from sklearn.ensemble import ExtraTreesRegressor\n",
    "\n",
    "\n",
    "iv_data = df1.drop(columns=['timestamp'])\n",
    "reg_et = ExtraTreesRegressor(\n",
    "    n_estimators=300,        \n",
    "    max_depth=30,           \n",
    "    max_features=0.8,       \n",
    "    min_samples_leaf=2,\n",
    "    bootstrap=True,\n",
    "    n_jobs=-1,\n",
    "    random_state=0\n",
    ")\n",
    "imputer_et = IterativeImputer(\n",
    "    estimator=reg_et,\n",
    "    max_iter=10,             \n",
    "    tol=0,\n",
    "    verbose=2,\n",
    "    random_state=0, \n",
    "    skip_complete=True,\n",
    "    imputation_order='roman'\n",
    ")\n",
    "iv_imputed = imputer_et.fit_transform(iv_data)"
   ]
  },
  {
   "cell_type": "code",
   "execution_count": null,
   "metadata": {
    "trusted": true
   },
   "outputs": [],
   "source": [
    "iv_imputed2 = iv_imputed\n",
    "df2 = df1.copy()\n",
    "df2[ig_columns] = pd.DataFrame(iv_imputed2, columns=ig_columns, index=df2.index)"
   ]
  },
  {
   "cell_type": "code",
   "execution_count": null,
   "metadata": {
    "trusted": true
   },
   "outputs": [],
   "source": [
    "submission = df2[['timestamp'] + iv_columns]\n",
    "submission.to_csv('submission (36).csv', index=False)\n",
    "print(\"submission created successfully.\")"
   ]
  },
  {
   "cell_type": "code",
   "execution_count": null,
   "metadata": {
    "trusted": true
   },
   "outputs": [],
   "source": [
    "#Save The CSV Which Will Be Helpfull For Future Ensembling In Submission Notebook"
   ]
  }
 ],
 "metadata": {
  "kaggle": {
   "accelerator": "nvidiaTeslaT4",
   "dataSources": [
    {
     "databundleVersionId": 12520411,
     "sourceId": 104024,
     "sourceType": "competition"
    }
   ],
   "dockerImageVersionId": 31040,
   "isGpuEnabled": true,
   "isInternetEnabled": true,
   "language": "python",
   "sourceType": "notebook"
  },
  "kernelspec": {
   "display_name": "Python 3",
   "language": "python",
   "name": "python3"
  },
  "language_info": {
   "codemirror_mode": {
    "name": "ipython",
    "version": 3
   },
   "file_extension": ".py",
   "mimetype": "text/x-python",
   "name": "python",
   "nbconvert_exporter": "python",
   "pygments_lexer": "ipython3",
   "version": "3.11.11"
  }
 },
 "nbformat": 4,
 "nbformat_minor": 4
}

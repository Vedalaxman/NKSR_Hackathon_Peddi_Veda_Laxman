{
 "cells": [
  {
   "cell_type": "code",
   "execution_count": null,
   "metadata": {
    "execution": {
     "iopub.execute_input": "2025-06-10T08:05:38.746743Z",
     "iopub.status.busy": "2025-06-10T08:05:38.746367Z",
     "iopub.status.idle": "2025-06-10T08:05:38.751542Z",
     "shell.execute_reply": "2025-06-10T08:05:38.750873Z",
     "shell.execute_reply.started": "2025-06-10T08:05:38.746715Z"
    },
    "trusted": true
   },
   "outputs": [],
   "source": [
    "#This Is My Third Notebook Run This On Kaggle TPU \n",
    "#If Run On CPU It Might Result In RAM Insufficieny or A Different Result (A better or Worse)\n",
    "#As TPU and CPU have different Percision"
   ]
  },
  {
   "cell_type": "code",
   "execution_count": null,
   "metadata": {
    "_cell_guid": "b1076dfc-b9ad-4769-8c92-a6c4dae69d19",
    "_uuid": "8f2839f25d086af736a60e9eeb907d3b93b6e0e5",
    "execution": {
     "iopub.execute_input": "2025-06-08T07:56:59.494041Z",
     "iopub.status.busy": "2025-06-08T07:56:59.493626Z",
     "iopub.status.idle": "2025-06-08T07:56:59.499964Z",
     "shell.execute_reply": "2025-06-08T07:56:59.499110Z",
     "shell.execute_reply.started": "2025-06-08T07:56:59.494020Z"
    },
    "trusted": true
   },
   "outputs": [
    {
     "name": "stdout",
     "output_type": "stream",
     "text": [
      "/kaggle/input/volatility-smile-prediction/test_data.parquet\n",
      "/kaggle/input/volatility-smile-prediction/sample_submission.csv\n",
      "/kaggle/input/volatility-smile-prediction/train_data.parquet\n"
     ]
    }
   ],
   "source": [
    "import numpy as np \n",
    "import pandas as pd \n",
    "import os\n",
    "import sklearn\n",
    "for dirname, _, filenames in os.walk('/kaggle/input'):\n",
    "    for filename in filenames:\n",
    "        print(os.path.join(dirname, filename))"
   ]
  },
  {
   "cell_type": "code",
   "execution_count": 3,
   "metadata": {
    "execution": {
     "iopub.execute_input": "2025-06-08T07:57:01.282536Z",
     "iopub.status.busy": "2025-06-08T07:57:01.282286Z",
     "iopub.status.idle": "2025-06-08T07:57:01.286119Z",
     "shell.execute_reply": "2025-06-08T07:57:01.285348Z",
     "shell.execute_reply.started": "2025-06-08T07:57:01.282518Z"
    },
    "trusted": true
   },
   "outputs": [],
   "source": [
    "data_path = '/kaggle/input/volatility-smile-prediction'\n",
    "output_path = '/kaggle/working'\n",
    "temp_path = '/kaggle/temp'"
   ]
  },
  {
   "cell_type": "code",
   "execution_count": 5,
   "metadata": {
    "execution": {
     "iopub.execute_input": "2025-06-08T07:57:07.069030Z",
     "iopub.status.busy": "2025-06-08T07:57:07.068564Z",
     "iopub.status.idle": "2025-06-08T07:57:07.350462Z",
     "shell.execute_reply": "2025-06-08T07:57:07.349603Z",
     "shell.execute_reply.started": "2025-06-08T07:57:07.069007Z"
    },
    "trusted": true
   },
   "outputs": [],
   "source": [
    "df = pd.read_parquet(f'{data_path}/train_data.parquet')\n",
    "df1 = pd.read_parquet(f'{data_path}/test_data.parquet')"
   ]
  },
  {
   "cell_type": "code",
   "execution_count": 6,
   "metadata": {
    "execution": {
     "iopub.execute_input": "2025-06-08T07:57:08.463852Z",
     "iopub.status.busy": "2025-06-08T07:57:08.463242Z",
     "iopub.status.idle": "2025-06-08T07:57:08.487799Z",
     "shell.execute_reply": "2025-06-08T07:57:08.487025Z",
     "shell.execute_reply.started": "2025-06-08T07:57:08.463829Z"
    },
    "trusted": true
   },
   "outputs": [],
   "source": [
    "iv_columns = ['call_iv_24000', 'call_iv_24100', 'call_iv_24200', 'call_iv_24300',\n",
    "       'call_iv_24400', 'call_iv_24500', 'call_iv_24600', 'call_iv_24700',\n",
    "       'call_iv_24800', 'call_iv_24900', 'call_iv_25000', 'call_iv_25100',\n",
    "       'call_iv_25200', 'call_iv_25300', 'call_iv_25400', 'call_iv_25500',\n",
    "       'call_iv_25600', 'call_iv_25700', 'call_iv_25800', 'call_iv_25900',\n",
    "       'call_iv_26000', 'call_iv_26100', 'call_iv_26200', 'call_iv_26300',\n",
    "       'call_iv_26400', 'call_iv_26500', 'put_iv_23000', 'put_iv_23100',\n",
    "       'put_iv_23200', 'put_iv_23300', 'put_iv_23400', 'put_iv_23500',\n",
    "       'put_iv_23600', 'put_iv_23700', 'put_iv_23800', 'put_iv_23900',\n",
    "       'put_iv_24000', 'put_iv_24100', 'put_iv_24200', 'put_iv_24300',\n",
    "       'put_iv_24400', 'put_iv_24500', 'put_iv_24600', 'put_iv_24700',\n",
    "       'put_iv_24800', 'put_iv_24900', 'put_iv_25000', 'put_iv_25100',\n",
    "       'put_iv_25200', 'put_iv_25300', 'put_iv_25400', 'put_iv_25500']\n",
    "ig_columns = df1.drop(columns=['timestamp']).columns"
   ]
  },
  {
   "cell_type": "code",
   "execution_count": null,
   "metadata": {
    "trusted": true
   },
   "outputs": [],
   "source": [
    "from sklearn.experimental import enable_iterative_imputer\n",
    "from sklearn.impute import IterativeImputer\n",
    "from sklearn.ensemble import ExtraTreesRegressor\n",
    "\n",
    "\n",
    "reg_et = ExtraTreesRegressor(\n",
    "    n_estimators=300,       \n",
    "    max_depth=25,            \n",
    "    max_features=0.8,       \n",
    "    min_samples_leaf=2, \n",
    "    bootstrap=True,\n",
    "    n_jobs=-1,\n",
    "    random_state=0\n",
    ")\n",
    "imputer_et = IterativeImputer(\n",
    "    estimator=reg_et,\n",
    "    max_iter=30,          \n",
    "    tol=0,\n",
    "    verbose=2,\n",
    "    random_state=0,\n",
    "    skip_complete=True,\n",
    "    imputation_order='roman'\n",
    ")\n",
    "iv_data = df1.drop(columns=['timestamp'])\n",
    "iv_imputed = imputer_et.fit_transform(iv_data)"
   ]
  },
  {
   "cell_type": "code",
   "execution_count": null,
   "metadata": {
    "trusted": true
   },
   "outputs": [],
   "source": [
    "iv_imputed2 = iv_imputed\n",
    "df2 = df1.copy()\n",
    "df2[ig_columns] = pd.DataFrame(iv_imputed2, columns=ig_columns, index=df2.index)"
   ]
  },
  {
   "cell_type": "code",
   "execution_count": null,
   "metadata": {
    "trusted": true
   },
   "outputs": [],
   "source": [
    "submission = df2[['timestamp'] + iv_columns]\n",
    "submission.to_csv('submission (39).csv', index=False)\n",
    "print(\"submission created successfully.\")"
   ]
  },
  {
   "cell_type": "code",
   "execution_count": null,
   "metadata": {
    "trusted": true
   },
   "outputs": [],
   "source": [
    "#Save The CSV Which Will Be Helpfull For Future Ensembling In Submission Notebook"
   ]
  }
 ],
 "metadata": {
  "kaggle": {
   "accelerator": "gpu",
   "dataSources": [
    {
     "databundleVersionId": 12520411,
     "sourceId": 104024,
     "sourceType": "competition"
    }
   ],
   "dockerImageVersionId": 31040,
   "isGpuEnabled": true,
   "isInternetEnabled": true,
   "language": "python",
   "sourceType": "notebook"
  },
  "kernelspec": {
   "display_name": "Python 3",
   "language": "python",
   "name": "python3"
  },
  "language_info": {
   "codemirror_mode": {
    "name": "ipython",
    "version": 3
   },
   "file_extension": ".py",
   "mimetype": "text/x-python",
   "name": "python",
   "nbconvert_exporter": "python",
   "pygments_lexer": "ipython3",
   "version": "3.11.11"
  }
 },
 "nbformat": 4,
 "nbformat_minor": 4
}
